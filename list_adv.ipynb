{
 "cells": [
  {
   "cell_type": "markdown",
   "metadata": {},
   "source": [
    "## What to learn\n",
    ". Comprehension\n",
    "\n",
    ". lambda,map and filter"
   ]
  },
  {
   "cell_type": "markdown",
   "metadata": {},
   "source": [
    "If you are doing a program where you need to get a list(sequence) of data** from and **Existing data by performing some operation on existing data,then you can use the concept of comperhension or map/filter to make your code smaller and faster"
   ]
  },
  {
   "cell_type": "code",
   "execution_count": 2,
   "metadata": {},
   "outputs": [
    {
     "name": "stdout",
     "output_type": "stream",
     "text": [
      "[6, 7, 8, 9, 10, 11, 12]\n"
     ]
    }
   ],
   "source": [
    "x = [1,2,3,4,5,6,7]\n",
    "x3 = [] #list empty\n",
    "for i in x:\n",
    "    a = i + 5\n",
    "    x3.append(a)\n",
    "print(x3)"
   ]
  },
  {
   "cell_type": "markdown",
   "metadata": {},
   "source": [
    "# comprehension syntax\n",
    "\n",
    "-  # Simple\n",
    "\n",
    ". newlist = [Operation loop]\n",
    "....\n",
    "\n",
    "- # Conditional based\n",
    "\n",
    "- new list = [Operation loop conditional]"
   ]
  },
  {
   "cell_type": "code",
   "execution_count": 27,
   "metadata": {},
   "outputs": [
    {
     "name": "stdout",
     "output_type": "stream",
     "text": [
      "[6, 7, 8, 9, 10, 11, 12]\n"
     ]
    }
   ],
   "source": [
    "x3 = [i+5 for i in x]\n",
    "print(x3)\n"
   ]
  },
  {
   "cell_type": "code",
   "execution_count": 28,
   "metadata": {},
   "outputs": [
    {
     "name": "stdout",
     "output_type": "stream",
     "text": [
      "[1, 8, 27, 64, 125, 216, 343]\n"
     ]
    }
   ],
   "source": [
    "x3 = [i**3 for i in x]\n",
    "print(x3)"
   ]
  },
  {
   "cell_type": "code",
   "execution_count": 35,
   "metadata": {},
   "outputs": [
    {
     "name": "stdout",
     "output_type": "stream",
     "text": [
      "[8, 64, 216, 512]\n"
     ]
    }
   ],
   "source": [
    "x = [1,2,3,4,5,6,7,8,9]\n",
    "x4 = [] # empty\n",
    "for i in x:\n",
    " if i%2 ==0:\n",
    "  x4.append(i**3)\n",
    "print(x4) \n"
   ]
  },
  {
   "cell_type": "code",
   "execution_count": 42,
   "metadata": {},
   "outputs": [
    {
     "name": "stdout",
     "output_type": "stream",
     "text": [
      "[32, 1024, 7776, 32768]\n"
     ]
    }
   ],
   "source": [
    "x4 = [i**5 for i in x if i%2==0]\n",
    "print(x4)"
   ]
  },
  {
   "cell_type": "code",
   "execution_count": 45,
   "metadata": {},
   "outputs": [
    {
     "name": "stdout",
     "output_type": "stream",
     "text": [
      "[-9, -8, -7, -6, -5, -4, 68, 89, -2]\n"
     ]
    }
   ],
   "source": [
    "x = [1,2,3,4,5,6,78,99,8] \n",
    "x6 = [] # empty\n",
    "for i in x:\n",
    "    a = i - 10\n",
    "    x6.append(a)\n",
    "print(x6)\n"
   ]
  },
  {
   "cell_type": "code",
   "execution_count": 47,
   "metadata": {},
   "outputs": [
    {
     "name": "stdout",
     "output_type": "stream",
     "text": [
      "[-9, -7, -5, 89]\n"
     ]
    }
   ],
   "source": [
    "x1 = [ i-10 for i in x if i%2!=0]\n",
    "print(x1)"
   ]
  },
  {
   "cell_type": "code",
   "execution_count": 48,
   "metadata": {},
   "outputs": [
    {
     "name": "stdout",
     "output_type": "stream",
     "text": [
      "['Mason', 'Tiwari', 'Verma']\n"
     ]
    }
   ],
   "source": [
    "names = [\"Alex Mason\",\" Manoj Tiwari\",\"Gaurav Verma\"]\n",
    "surnames =[]\n",
    "for n in names:\n",
    "    sn = n.split()[-1]# get the last word\n",
    "    surnames.append(sn)\n",
    "print(surnames)"
   ]
  },
  {
   "cell_type": "code",
   "execution_count": 51,
   "metadata": {},
   "outputs": [
    {
     "name": "stdout",
     "output_type": "stream",
     "text": [
      "['Mason', 'Tiwari', 'Verma']\n"
     ]
    }
   ],
   "source": [
    "x = [n.split()[-1] for n in names ]\n",
    "print(x)"
   ]
  },
  {
   "cell_type": "markdown",
   "metadata": {},
   "source": [
    "### Task\n",
    "Write a comprehension program that will return all the employees with \"a\" in their names from an existing list of 25 employees\n"
   ]
  },
  {
   "cell_type": "code",
   "execution_count": 9,
   "metadata": {},
   "outputs": [
    {
     "ename": "IndentationError",
     "evalue": "expected an indented block (3038270555.py, line 4)",
     "output_type": "error",
     "traceback": [
      "\u001b[1;36m  Input \u001b[1;32mIn [9]\u001b[1;36m\u001b[0m\n\u001b[1;33m    sn =n.split()[a]# get the last word\u001b[0m\n\u001b[1;37m    ^\u001b[0m\n\u001b[1;31mIndentationError\u001b[0m\u001b[1;31m:\u001b[0m expected an indented block\n"
     ]
    }
   ],
   "source": [
    "names = [\"Alex Mason\",\" Manoj Tiwari\",\"Gaurav Verma\",\"Aman saxena\",\"Rohan Verma\",\"Aryan Yadav\",\"Ram Mishra\",\"elex\"]\n",
    "surnames =[]\n",
    "for n in names:\n",
    "sn =n.split()[a]# get the last word\n",
    "surnames.append(sn)\n",
    "print(surnames)"
   ]
  },
  {
   "cell_type": "code",
   "execution_count": null,
   "metadata": {},
   "outputs": [
    {
     "name": "stdout",
     "output_type": "stream",
     "text": [
      "['Alex', 'Manoj', 'Gaurav', 'Aman', 'Rohan', 'Aryan', 'Ram']\n"
     ]
    }
   ],
   "source": [
    "x = [n.split()[a] for n in names]\n",
    "print(x)"
   ]
  },
  {
   "cell_type": "code",
   "execution_count": null,
   "metadata": {},
   "outputs": [],
   "source": []
  }
 ],
 "metadata": {
  "interpreter": {
   "hash": "48c7ad7238f03bbf0bdd6d2c7cf8da57e6862eaf12c2b50e4eb6bc719789fcf3"
  },
  "kernelspec": {
   "display_name": "Python 3.9.5 ('base')",
   "language": "python",
   "name": "python3"
  },
  "language_info": {
   "codemirror_mode": {
    "name": "ipython",
    "version": 3
   },
   "file_extension": ".py",
   "mimetype": "text/x-python",
   "name": "python",
   "nbconvert_exporter": "python",
   "pygments_lexer": "ipython3",
   "version": "3.9.5"
  },
  "orig_nbformat": 4
 },
 "nbformat": 4,
 "nbformat_minor": 2
}
