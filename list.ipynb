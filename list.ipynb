{
 "cells": [
  {
   "cell_type": "markdown",
   "metadata": {},
   "source": [
    "## list concept Revised it again ✔."
   ]
  },
  {
   "cell_type": "code",
   "execution_count": 4,
   "metadata": {},
   "outputs": [
    {
     "name": "stdout",
     "output_type": "stream",
     "text": [
      "['435']\n",
      "['435', 'roti']\n",
      "['435', 'roti', 'wheat']\n"
     ]
    }
   ],
   "source": [
    "fav_foods = []\n",
    "for i in range (3):\n",
    "    food =input(\"enter name of ur fav foods=> \")\n",
    "    fav_foods.append(food)\n",
    "    print(fav_foods) "
   ]
  },
  {
   "cell_type": "code",
   "execution_count": 8,
   "metadata": {},
   "outputs": [
    {
     "ename": "NameError",
     "evalue": "name 'nums' is not defined",
     "output_type": "error",
     "traceback": [
      "\u001b[1;31m---------------------------------------------------------------------------\u001b[0m",
      "\u001b[1;31mNameError\u001b[0m                                 Traceback (most recent call last)",
      "\u001b[1;32mc:\\Users\\lenovo\\Documents\\DigiManoj\\list.ipynb Cell 3'\u001b[0m in \u001b[0;36m<module>\u001b[1;34m\u001b[0m\n\u001b[0;32m      <a href='vscode-notebook-cell:/c%3A/Users/lenovo/Documents/DigiManoj/list.ipynb#ch0000002?line=0'>1</a>\u001b[0m num \u001b[39m=\u001b[39m[]\n\u001b[0;32m      <a href='vscode-notebook-cell:/c%3A/Users/lenovo/Documents/DigiManoj/list.ipynb#ch0000002?line=1'>2</a>\u001b[0m \u001b[39mfor\u001b[39;00m i \u001b[39min\u001b[39;00m \u001b[39mrange\u001b[39m(\u001b[39m1\u001b[39m,\u001b[39m101\u001b[39m):\n\u001b[1;32m----> <a href='vscode-notebook-cell:/c%3A/Users/lenovo/Documents/DigiManoj/list.ipynb#ch0000002?line=2'>3</a>\u001b[0m     nums\u001b[39m.\u001b[39mappend(i)\n\u001b[0;32m      <a href='vscode-notebook-cell:/c%3A/Users/lenovo/Documents/DigiManoj/list.ipynb#ch0000002?line=3'>4</a>\u001b[0m     \u001b[39mprint\u001b[39m(nums)\n",
      "\u001b[1;31mNameError\u001b[0m: name 'nums' is not defined"
     ]
    }
   ],
   "source": [
    "num =[]\n",
    "for i in range(1,101):\n",
    "    nums.append(i)\n",
    "    print(nums)\n",
    "    "
   ]
  },
  {
   "cell_type": "markdown",
   "metadata": {},
   "source": [
    "# Function :\n",
    " \n",
    " adding items :\n",
    " 1. append\n",
    " 2. insert\n",
    " 3. extend\n",
    " \n",
    " -Delete items :\n",
    " \n",
    " 4. \n",
    " 5.\n",
    " 6.\n",
    "  -Utility func : \n",
    "\n",
    "  7. reverse\n",
    "  8. sort\n",
    "  9. count\n",
    "  10. index\n",
    "  11. copy"
   ]
  },
  {
   "cell_type": "code",
   "execution_count": 1,
   "metadata": {},
   "outputs": [
    {
     "data": {
      "text/plain": [
       "['apple', 'banana', 'cherry', 'guava']"
      ]
     },
     "execution_count": 1,
     "metadata": {},
     "output_type": "execute_result"
    }
   ],
   "source": [
    "fruits =[]\n",
    "fruits.append(\"apple\")\n",
    "fruits.append(\"banana\")\n",
    "fruits.append(\"cherry\")\n",
    "fruits.append(\"guava\")\n",
    "fruits\n"
   ]
  },
  {
   "cell_type": "code",
   "execution_count": 3,
   "metadata": {},
   "outputs": [
    {
     "data": {
      "text/plain": [
       "['apple', 'banana', 'draganfruit', 'cherry', 'guava']"
      ]
     },
     "execution_count": 3,
     "metadata": {},
     "output_type": "execute_result"
    }
   ],
   "source": [
    "fruits.insert(-2,\"draganfruit\")\n",
    "fruits"
   ]
  },
  {
   "cell_type": "code",
   "execution_count": 4,
   "metadata": {},
   "outputs": [
    {
     "data": {
      "text/plain": [
       "['apple', 'avocoda', 'banana', 'draganfruit', 'cherry', 'guava']"
      ]
     },
     "execution_count": 4,
     "metadata": {},
     "output_type": "execute_result"
    }
   ],
   "source": [
    "fruits.insert(1,\"avocoda\")\n",
    "fruits"
   ]
  },
  {
   "cell_type": "markdown",
   "metadata": {},
   "source": [
    "# extend is used to merge the items with other list:"
   ]
  },
  {
   "cell_type": "code",
   "execution_count": 6,
   "metadata": {},
   "outputs": [
    {
     "data": {
      "text/plain": [
       "['almonds', 'cashew', 'walnut']"
      ]
     },
     "execution_count": 6,
     "metadata": {},
     "output_type": "execute_result"
    }
   ],
   "source": [
    "dry_fruits = [\"almonds\",\"cashew\",\"walnut\"]\n",
    "dry_fruits"
   ]
  },
  {
   "cell_type": "code",
   "execution_count": 8,
   "metadata": {},
   "outputs": [
    {
     "data": {
      "text/plain": [
       "10"
      ]
     },
     "execution_count": 8,
     "metadata": {},
     "output_type": "execute_result"
    }
   ],
   "source": [
    "len(fruits)"
   ]
  },
  {
   "cell_type": "code",
   "execution_count": 7,
   "metadata": {},
   "outputs": [
    {
     "data": {
      "text/plain": [
       "['apple',\n",
       " 'avocoda',\n",
       " 'banana',\n",
       " 'draganfruit',\n",
       " 'cherry',\n",
       " 'guava',\n",
       " 'rotten apple',\n",
       " 'almonds',\n",
       " 'cashew',\n",
       " 'walnut']"
      ]
     },
     "execution_count": 7,
     "metadata": {},
     "output_type": "execute_result"
    }
   ],
   "source": [
    "fruits.extend(dry_fruits)\n",
    "fruits"
   ]
  },
  {
   "cell_type": "code",
   "execution_count": 9,
   "metadata": {},
   "outputs": [
    {
     "data": {
      "text/plain": [
       "['apple',\n",
       " 'avocoda',\n",
       " 'banana',\n",
       " 'draganfruit',\n",
       " 'cherry',\n",
       " 'guava',\n",
       " 'rotten apple',\n",
       " 'almonds',\n",
       " 'cashew',\n",
       " 'walnut',\n",
       " 'rotten apple']"
      ]
     },
     "execution_count": 9,
     "metadata": {},
     "output_type": "execute_result"
    }
   ],
   "source": [
    "fruits.insert(100,\"rotten apple\")\n",
    "fruits"
   ]
  },
  {
   "cell_type": "code",
   "execution_count": 11,
   "metadata": {},
   "outputs": [
    {
     "name": "stdout",
     "output_type": "stream",
     "text": [
      "no rotten apple found\n"
     ]
    }
   ],
   "source": [
    "if \"rooten apple\" in fruits:\n",
    "    fruits.remove(\"rotten apple\")\n",
    "    print(fruits)\n",
    "else:\n",
    "        print(\"no rotten apple found\")"
   ]
  },
  {
   "cell_type": "code",
   "execution_count": 12,
   "metadata": {},
   "outputs": [],
   "source": [
    "if \"papaya\" in fruits:\n",
    "    fruits.remove(\"papaya\")"
   ]
  },
  {
   "cell_type": "code",
   "execution_count": 14,
   "metadata": {},
   "outputs": [
    {
     "data": {
      "text/plain": [
       "[1, 2, 3, [1, 2, 3, 4]]"
      ]
     },
     "execution_count": 14,
     "metadata": {},
     "output_type": "execute_result"
    }
   ],
   "source": [
    "x = [1,2,3,[1,2,3,4]]\n",
    "x"
   ]
  },
  {
   "cell_type": "code",
   "execution_count": 15,
   "metadata": {},
   "outputs": [],
   "source": [
    "if 2 in x[3]:\n",
    "    x[3].remove(2)"
   ]
  },
  {
   "cell_type": "markdown",
   "metadata": {},
   "source": [
    "# pop can be used in 2 way \n",
    "- ## list.pop() => remove the last value in the list and give us that value\n",
    "- ## list.pop(idx) => remove the value from idx if idx is valid and gives the value "
   ]
  },
  {
   "cell_type": "code",
   "execution_count": 16,
   "metadata": {},
   "outputs": [
    {
     "name": "stdout",
     "output_type": "stream",
     "text": [
      "remove_value=> rotten apple\n",
      "list=> ['apple', 'avocoda', 'banana', 'draganfruit', 'cherry', 'guava', 'rotten apple', 'almonds', 'cashew', 'walnut']\n"
     ]
    }
   ],
   "source": [
    "v = fruits.pop()\n",
    "print(\"remove_value=>\",v)\n",
    "print(\"list=>\",fruits)"
   ]
  },
  {
   "cell_type": "code",
   "execution_count": 17,
   "metadata": {},
   "outputs": [
    {
     "name": "stdout",
     "output_type": "stream",
     "text": [
      "remove_value=> draganfruit\n",
      "list=> ['apple', 'avocoda', 'banana', 'cherry', 'guava', 'rotten apple', 'almonds', 'cashew', 'walnut']\n"
     ]
    }
   ],
   "source": [
    "v = fruits.pop(3)\n",
    "print(\"remove_value=>\",v)\n",
    "print(\"list=>\",fruits)"
   ]
  },
  {
   "cell_type": "code",
   "execution_count": 18,
   "metadata": {},
   "outputs": [
    {
     "data": {
      "text/plain": [
       "[]"
      ]
     },
     "execution_count": 18,
     "metadata": {},
     "output_type": "execute_result"
    }
   ],
   "source": [
    "fruits.clear()\n",
    "fruits"
   ]
  },
  {
   "cell_type": "code",
   "execution_count": 22,
   "metadata": {},
   "outputs": [
    {
     "data": {
      "text/plain": [
       "['mango']"
      ]
     },
     "execution_count": 22,
     "metadata": {},
     "output_type": "execute_result"
    }
   ],
   "source": [
    "fruits.append(\"mango\")\n",
    "fruits"
   ]
  },
  {
   "cell_type": "code",
   "execution_count": 23,
   "metadata": {},
   "outputs": [
    {
     "data": {
      "text/plain": [
       "[]"
      ]
     },
     "execution_count": 23,
     "metadata": {},
     "output_type": "execute_result"
    }
   ],
   "source": [
    "fruits.clear()\n",
    "fruits"
   ]
  },
  {
   "cell_type": "code",
   "execution_count": 34,
   "metadata": {},
   "outputs": [
    {
     "data": {
      "text/plain": [
       "['ghostbusters: afterlife',\n",
       " 'spider-man: No way home',\n",
       " 'chak de india',\n",
       " 'jungel cruise',\n",
       " 'heropanti']"
      ]
     },
     "execution_count": 34,
     "metadata": {},
     "output_type": "execute_result"
    }
   ],
   "source": [
    "movies =[\n",
    "    \"ghostbusters: afterlife\",\n",
    "    \"spider-man: No way home\",\n",
    "    \"chak de india\",\n",
    "    \"jungel cruise\",\n",
    "    \"heropanti\",\n",
    "]\n",
    "movies"
   ]
  },
  {
   "cell_type": "code",
   "execution_count": 35,
   "metadata": {},
   "outputs": [
    {
     "name": "stdout",
     "output_type": "stream",
     "text": [
      "normal\n",
      " ['ghostbusters: afterlife', 'spider-man: No way home', 'chak de india', 'jungel cruise', 'heropanti']\n",
      "reverse\n",
      " ['heropanti', 'jungel cruise', 'chak de india', 'spider-man: No way home', 'ghostbusters: afterlife']\n"
     ]
    }
   ],
   "source": [
    "print(\"normal\\n\",movies)\n",
    "movies.reverse()\n",
    "print(\"reverse\\n\",movies)"
   ]
  },
  {
   "cell_type": "code",
   "execution_count": 36,
   "metadata": {},
   "outputs": [
    {
     "name": "stdout",
     "output_type": "stream",
     "text": [
      "['chak de india', 'ghostbusters: afterlife', 'heropanti', 'jungel cruise', 'spider-man: No way home']\n"
     ]
    }
   ],
   "source": [
    "movies.sort()\n",
    "print(movies)"
   ]
  },
  {
   "cell_type": "code",
   "execution_count": 37,
   "metadata": {},
   "outputs": [
    {
     "name": "stdout",
     "output_type": "stream",
     "text": [
      "['spider-man: No way home', 'jungel cruise', 'heropanti', 'ghostbusters: afterlife', 'chak de india']\n"
     ]
    }
   ],
   "source": [
    "movies.sort(reverse=True)\n",
    "print(movies)"
   ]
  },
  {
   "cell_type": "code",
   "execution_count": null,
   "metadata": {},
   "outputs": [],
   "source": [
    "dup_mov "
   ]
  },
  {
   "cell_type": "code",
   "execution_count": 38,
   "metadata": {},
   "outputs": [
    {
     "data": {
      "text/plain": [
       "4"
      ]
     },
     "execution_count": 38,
     "metadata": {},
     "output_type": "execute_result"
    }
   ],
   "source": [
    "movies.index(\"chak de india\")"
   ]
  },
  {
   "cell_type": "code",
   "execution_count": 39,
   "metadata": {},
   "outputs": [
    {
     "data": {
      "text/plain": [
       "<function list.reverse()>"
      ]
     },
     "execution_count": 39,
     "metadata": {},
     "output_type": "execute_result"
    }
   ],
   "source": [
    "movies.reverse"
   ]
  },
  {
   "cell_type": "code",
   "execution_count": 40,
   "metadata": {},
   "outputs": [],
   "source": [
    "if \"Nobody\" in movies:\n",
    "    print(movies.index(\"Nobody\"))"
   ]
  },
  {
   "cell_type": "code",
   "execution_count": 41,
   "metadata": {},
   "outputs": [],
   "source": [
    "x = [1,1,1,1,1,1,2,2,2,3,3,4,5,6,7,8,7,5,2,6,9,5,3,4,5,6,3,4,8,2]"
   ]
  },
  {
   "cell_type": "code",
   "execution_count": 42,
   "metadata": {},
   "outputs": [
    {
     "data": {
      "text/plain": [
       "6"
      ]
     },
     "execution_count": 42,
     "metadata": {},
     "output_type": "execute_result"
    }
   ],
   "source": [
    "x.count(1)"
   ]
  },
  {
   "cell_type": "code",
   "execution_count": 43,
   "metadata": {},
   "outputs": [
    {
     "data": {
      "text/plain": [
       "4"
      ]
     },
     "execution_count": 43,
     "metadata": {},
     "output_type": "execute_result"
    }
   ],
   "source": [
    "x.count(3)"
   ]
  },
  {
   "cell_type": "code",
   "execution_count": 44,
   "metadata": {},
   "outputs": [
    {
     "data": {
      "text/plain": [
       "3"
      ]
     },
     "execution_count": 44,
     "metadata": {},
     "output_type": "execute_result"
    }
   ],
   "source": [
    "x.count(4)"
   ]
  },
  {
   "cell_type": "code",
   "execution_count": 45,
   "metadata": {},
   "outputs": [
    {
     "data": {
      "text/plain": [
       "4"
      ]
     },
     "execution_count": 45,
     "metadata": {},
     "output_type": "execute_result"
    }
   ],
   "source": [
    "x.count(5)"
   ]
  },
  {
   "cell_type": "code",
   "execution_count": 46,
   "metadata": {},
   "outputs": [
    {
     "data": {
      "text/plain": [
       "3"
      ]
     },
     "execution_count": 46,
     "metadata": {},
     "output_type": "execute_result"
    }
   ],
   "source": [
    "x.count(6)"
   ]
  },
  {
   "cell_type": "markdown",
   "metadata": {},
   "source": [
    "# WAP to enter 15 numbers in list, then print the sum, min,max,mean of that list"
   ]
  },
  {
   "cell_type": "code",
   "execution_count": 56,
   "metadata": {},
   "outputs": [
    {
     "name": "stdout",
     "output_type": "stream",
     "text": [
      "sum of values = 5\n",
      "min  values = 5\n",
      "max values = 5\n",
      "means of values = 5.0\n",
      "sum of values = 12\n",
      "min  values = 5\n",
      "max values = 7\n",
      "means of values = 6.0\n",
      "sum of values = 15\n",
      "min  values = 3\n",
      "max values = 7\n",
      "means of values = 5.0\n",
      "sum of values = 20\n",
      "min  values = 3\n",
      "max values = 7\n",
      "means of values = 5.0\n",
      "sum of values = 87\n",
      "min  values = 3\n",
      "max values = 67\n",
      "means of values = 17.4\n",
      "sum of values = 95\n",
      "min  values = 3\n",
      "max values = 67\n",
      "means of values = 15.833333333333334\n",
      "sum of values = 100\n",
      "min  values = 3\n",
      "max values = 67\n",
      "means of values = 14.285714285714286\n",
      "sum of values = 104\n",
      "min  values = 3\n",
      "max values = 67\n",
      "means of values = 13.0\n",
      "sum of values = 107\n",
      "min  values = 3\n",
      "max values = 67\n",
      "means of values = 11.88888888888889\n",
      "sum of values = 111\n",
      "min  values = 3\n",
      "max values = 67\n",
      "means of values = 11.1\n",
      "sum of values = 117\n",
      "min  values = 3\n",
      "max values = 67\n",
      "means of values = 10.636363636363637\n",
      "sum of values = 124\n",
      "min  values = 3\n",
      "max values = 67\n",
      "means of values = 10.333333333333334\n",
      "sum of values = 131\n",
      "min  values = 3\n",
      "max values = 67\n",
      "means of values = 10.076923076923077\n",
      "sum of values = 219\n",
      "min  values = 3\n",
      "max values = 88\n",
      "means of values = 15.642857142857142\n",
      "sum of values = 224\n",
      "min  values = 3\n",
      "max values = 88\n",
      "means of values = 14.933333333333334\n"
     ]
    }
   ],
   "source": [
    "nums =[]\n",
    "for i in range (15):\n",
    "    val = int(input(f\"enter {i+1} number:\"))\n",
    "    nums.append(val)\n",
    "\n",
    "    print(\"sum of values =\", sum(nums))\n",
    "    print(\"min  values =\", min(nums))\n",
    "    print(\"max values =\", max(nums))\n",
    "    print(\"means of values =\", sum(nums)/len(nums))\n",
    "\n"
   ]
  },
  {
   "cell_type": "markdown",
   "metadata": {},
   "source": [
    "# Comperhension in list "
   ]
  },
  {
   "cell_type": "code",
   "execution_count": null,
   "metadata": {},
   "outputs": [],
   "source": []
  },
  {
   "cell_type": "code",
   "execution_count": null,
   "metadata": {},
   "outputs": [],
   "source": []
  }
 ],
 "metadata": {
  "interpreter": {
   "hash": "48c7ad7238f03bbf0bdd6d2c7cf8da57e6862eaf12c2b50e4eb6bc719789fcf3"
  },
  "kernelspec": {
   "display_name": "Python 3.9.5 ('base')",
   "language": "python",
   "name": "python3"
  },
  "language_info": {
   "codemirror_mode": {
    "name": "ipython",
    "version": 3
   },
   "file_extension": ".py",
   "mimetype": "text/x-python",
   "name": "python",
   "nbconvert_exporter": "python",
   "pygments_lexer": "ipython3",
   "version": "3.9.5"
  },
  "orig_nbformat": 4
 },
 "nbformat": 4,
 "nbformat_minor": 2
}
