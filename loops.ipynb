{
 "cells": [
  {
   "cell_type": "markdown",
   "metadata": {},
   "source": [
    "# concept of loops in Python"
   ]
  },
  {
   "cell_type": "markdown",
   "metadata": {},
   "source": []
  },
  {
   "cell_type": "markdown",
   "metadata": {},
   "source": [
    "syntax\n",
    "for <variable>in<sequence>:\n",
    "statement 1\n",
    "statement 2"
   ]
  },
  {
   "cell_type": "code",
   "execution_count": 2,
   "metadata": {},
   "outputs": [
    {
     "name": "stdout",
     "output_type": "stream",
     "text": [
      " \n",
      "P\n",
      "y\n",
      "t\n",
      "h\n",
      "o\n",
      "n\n"
     ]
    }
   ],
   "source": [
    "x = \" Python\"\n",
    "for i in x:\n",
    "    print(i)"
   ]
  },
  {
   "cell_type": "code",
   "execution_count": 3,
   "metadata": {},
   "outputs": [
    {
     "name": "stdout",
     "output_type": "stream",
     "text": [
      "i have apples\n",
      "i have banana\n",
      "i have mango\n"
     ]
    }
   ],
   "source": [
    "fruits = [\"apples\",\"banana\",\"mango\"]\n",
    "for item in fruits:\n",
    "    print(f\"i have {item}\")"
   ]
  },
  {
   "cell_type": "code",
   "execution_count": 4,
   "metadata": {},
   "outputs": [],
   "source": [
    "movies =[\"The Holy Grail\",\"The life of brain\",\"The meaning of life\",\"Terminator\",\"Pulp friction\"]"
   ]
  },
  {
   "cell_type": "code",
   "execution_count": 6,
   "metadata": {},
   "outputs": [
    {
     "name": "stdout",
     "output_type": "stream",
     "text": [
      "The Holy Grail 14\n",
      "The life of brain 17\n",
      "The meaning of life 19\n",
      "Terminator 10\n",
      "Pulp friction 13\n"
     ]
    }
   ],
   "source": [
    "for movie in movies:\n",
    "    print(movie,len(movie))"
   ]
  },
  {
   "cell_type": "markdown",
   "metadata": {},
   "source": [
    "#  Important Notes\n",
    "for i,name in enumerate(movies):\n",
    "\n"
   ]
  },
  {
   "cell_type": "code",
   "execution_count": 9,
   "metadata": {},
   "outputs": [
    {
     "name": "stdout",
     "output_type": "stream",
     "text": [
      "0- The Holy Grail\n",
      "1- The life of brain\n",
      "2- The meaning of life\n",
      "3- Terminator\n",
      "4- Pulp friction\n"
     ]
    }
   ],
   "source": [
    "for i,name in enumerate(movies):\n",
    "    print(f\"{i}- {name}\")"
   ]
  },
  {
   "cell_type": "code",
   "execution_count": 10,
   "metadata": {},
   "outputs": [
    {
     "name": "stdout",
     "output_type": "stream",
     "text": [
      "you got point 0\n",
      "you got point 1\n",
      "you got point 2\n",
      "you got point 3\n",
      "you got point 4\n",
      "you got point 5\n"
     ]
    }
   ],
   "source": [
    "for i in range(6):\n",
    "    print(\"you got point\",i)"
   ]
  },
  {
   "cell_type": "code",
   "execution_count": 13,
   "metadata": {},
   "outputs": [
    {
     "name": "stdout",
     "output_type": "stream",
     "text": [
      "level 1\n",
      "level 5\n",
      "level 9\n"
     ]
    }
   ],
   "source": [
    "for num in range (1,10,4):\n",
    "    print(\"level\",num)"
   ]
  },
  {
   "cell_type": "code",
   "execution_count": 15,
   "metadata": {},
   "outputs": [
    {
     "name": "stdout",
     "output_type": "stream",
     "text": [
      "sheep 2\n",
      "sheep 3\n",
      "sheep 4\n",
      "sheep 5\n",
      "sheep 6\n",
      "sheep 7\n",
      "sheep 8\n",
      "sheep 9\n",
      "sheep 10\n"
     ]
    }
   ],
   "source": [
    "for num  in range (2,11):\n",
    "    print(\"sheep\", num)"
   ]
  },
  {
   "cell_type": "code",
   "execution_count": 16,
   "metadata": {},
   "outputs": [
    {
     "name": "stdout",
     "output_type": "stream",
     "text": [
      "10\n",
      "8\n",
      "6\n"
     ]
    }
   ],
   "source": [
    "# reverse loop\n",
    "for num in range(10,5,-2):\n",
    "    print(num)"
   ]
  },
  {
   "cell_type": "code",
   "execution_count": 17,
   "metadata": {},
   "outputs": [
    {
     "name": "stdout",
     "output_type": "stream",
     "text": [
      "\n",
      "Na\n",
      "NaNa\n",
      "NaNaNa\n",
      "NaNaNaNa\n",
      "NaNaNaNaNa\n",
      "NaNaNaNaNaNa\n",
      "NaNaNaNaNaNaNa\n",
      "NaNaNaNaNaNaNaNa\n",
      "NaNaNaNaNaNaNaNaNa\n"
     ]
    }
   ],
   "source": [
    "#pattern loops \n",
    "for i in range(10):\n",
    "    print(i* \"Na\") "
   ]
  },
  {
   "cell_type": "code",
   "execution_count": 35,
   "metadata": {},
   "outputs": [
    {
     "name": "stdout",
     "output_type": "stream",
     "text": [
      "odd 1\n",
      "even 2\n",
      "odd 3\n",
      "even 4\n",
      "odd 5\n",
      "even 6\n",
      "odd 7\n",
      "even 8\n",
      "odd 9\n",
      "even 10\n",
      "odd 11\n",
      "even 12\n",
      "odd 13\n",
      "even 14\n",
      "odd 15\n",
      "even 16\n",
      "odd 17\n",
      "even 18\n",
      "odd 19\n",
      "even 20\n",
      "odd 21\n",
      "even 22\n",
      "odd 23\n",
      "even 24\n",
      "odd 25\n",
      "even 26\n",
      "odd 27\n",
      "even 28\n",
      "odd 29\n",
      "even 30\n",
      "odd 31\n",
      "even 32\n",
      "odd 33\n",
      "even 34\n",
      "odd 35\n",
      "even 36\n",
      "odd 37\n",
      "even 38\n",
      "odd 39\n",
      "even 40\n",
      "odd 41\n",
      "even 42\n",
      "odd 43\n",
      "even 44\n",
      "odd 45\n",
      "even 46\n",
      "odd 47\n",
      "even 48\n",
      "odd 49\n",
      "even 50\n",
      "odd 51\n",
      "even 52\n",
      "odd 53\n",
      "even 54\n",
      "odd 55\n",
      "even 56\n",
      "odd 57\n",
      "even 58\n",
      "odd 59\n",
      "even 60\n",
      "odd 61\n",
      "even 62\n",
      "odd 63\n",
      "even 64\n",
      "odd 65\n",
      "even 66\n",
      "odd 67\n",
      "even 68\n",
      "odd 69\n",
      "even 70\n",
      "odd 71\n",
      "even 72\n",
      "odd 73\n",
      "even 74\n",
      "odd 75\n",
      "even 76\n",
      "odd 77\n",
      "even 78\n",
      "odd 79\n",
      "even 80\n",
      "odd 81\n",
      "even 82\n",
      "odd 83\n",
      "even 84\n",
      "odd 85\n",
      "even 86\n",
      "odd 87\n",
      "even 88\n",
      "odd 89\n",
      "even 90\n",
      "odd 91\n",
      "even 92\n",
      "odd 93\n",
      "even 94\n",
      "odd 95\n",
      "even 96\n",
      "odd 97\n",
      "even 98\n",
      "odd 99\n",
      "even 100\n"
     ]
    }
   ],
   "source": [
    "# even or odd numbers\n",
    "for i in range(1,101):\n",
    " if i%2 ==0:\n",
    "    print(\"even\",i)\n",
    " else:\n",
    "     print(\"odd\",i)"
   ]
  },
  {
   "cell_type": "code",
   "execution_count": 48,
   "metadata": {},
   "outputs": [
    {
     "name": "stdout",
     "output_type": "stream",
     "text": [
      "total of all even numbers=> 2550\n"
     ]
    }
   ],
   "source": [
    "total =0\n",
    "for i in range (2,101):\n",
    "    if i %2 ==0:\n",
    "        total +=i\n",
    "print(\"total of all even numbers=>\",total)"
   ]
  },
  {
   "cell_type": "code",
   "execution_count": 50,
   "metadata": {},
   "outputs": [
    {
     "name": "stdout",
     "output_type": "stream",
     "text": [
      "24.999999999999996\n"
     ]
    }
   ],
   "source": [
    "avg =0\n",
    "for i in range(1,101):\n",
    "    if i%2 !=0:\n",
    "        avg=avg+i/100\n",
    "print(avg)\n",
    "\n",
    "\n",
    "\n"
   ]
  },
  {
   "cell_type": "code",
   "execution_count": null,
   "metadata": {},
   "outputs": [],
   "source": []
  }
 ],
 "metadata": {
  "interpreter": {
   "hash": "48c7ad7238f03bbf0bdd6d2c7cf8da57e6862eaf12c2b50e4eb6bc719789fcf3"
  },
  "kernelspec": {
   "display_name": "Python 3.9.5 ('base')",
   "language": "python",
   "name": "python3"
  },
  "language_info": {
   "codemirror_mode": {
    "name": "ipython",
    "version": 3
   },
   "file_extension": ".py",
   "mimetype": "text/x-python",
   "name": "python",
   "nbconvert_exporter": "python",
   "pygments_lexer": "ipython3",
   "version": "3.9.5"
  },
  "orig_nbformat": 4
 },
 "nbformat": 4,
 "nbformat_minor": 2
}
